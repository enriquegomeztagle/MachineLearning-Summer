{
 "cells": [
  {
   "cell_type": "code",
   "execution_count": 4,
   "metadata": {},
   "outputs": [],
   "source": [
    "import numpy as np\n",
    "import pandas as pd\n",
    "from sklearn.linear_model import LinearRegression\n",
    "from sklearn.metrics import mean_squared_error, r2_score"
   ]
  },
  {
   "cell_type": "code",
   "execution_count": 5,
   "id": "3d297bd6",
   "metadata": {},
   "outputs": [],
   "source": [
    "np.random.seed(0)\n",
    "X = 2 * np.random.rand(100, 1)\n",
    "y = 4 + 3 * X + np.random.randn(100, 1)"
   ]
  },
  {
   "cell_type": "code",
   "execution_count": 6,
   "id": "bab7d8a9",
   "metadata": {},
   "outputs": [],
   "source": [
    "model = LinearRegression()\n",
    "model.fit(X, y)\n",
    "y_pred = model.predict(X)"
   ]
  },
  {
   "cell_type": "code",
   "execution_count": 7,
   "id": "47508890",
   "metadata": {},
   "outputs": [],
   "source": [
    "mse = mean_squared_error(y, y_pred)\n",
    "rmse = np.sqrt(mse)\n",
    "rss = np.sum((y - y_pred) ** 2)\n",
    "tss = np.sum((y - np.mean(y)) ** 2)\n",
    "ssr = tss - rss\n",
    "r2 = r2_score(y, y_pred)\n",
    "mape = np.mean(np.abs((y - y_pred) / y)) * 100"
   ]
  },
  {
   "cell_type": "code",
   "execution_count": 8,
   "id": "aa4b1a33",
   "metadata": {},
   "outputs": [],
   "source": [
    "metrics = {\n",
    "    'Metric': ['MSE', 'RMSE', 'RSS', 'SSR', 'TSS', 'R2', 'MAPE'],\n",
    "    'Value': [mse, rmse, rss, ssr, tss, r2, mape]\n",
    "}\n",
    "metrics_df = pd.DataFrame(metrics)"
   ]
  },
  {
   "cell_type": "code",
   "execution_count": 9,
   "id": "9c22818a",
   "metadata": {},
   "outputs": [
    {
     "name": "stdout",
     "output_type": "stream",
     "text": [
      "  Metric       Value\n",
      "0    MSE    0.992439\n",
      "1   RMSE    0.996212\n",
      "2    RSS   99.243865\n",
      "3    SSR  292.967005\n",
      "4    TSS  392.210870\n",
      "5     R2    0.746963\n",
      "6   MAPE   13.429088\n"
     ]
    }
   ],
   "source": [
    "print(metrics_df)"
   ]
  },
  {
   "cell_type": "markdown",
   "id": "aa9c2f1c",
   "metadata": {},
   "source": [
    "# Evaluation Metrics\n",
    "\n",
    "1. **MSE (Mean Squared Error)**: Measures the average of the squares of the errors, giving more weight to larger errors.\n",
    "2. **RMSE (Root Mean Squared Error)**: The square root of MSE, providing an error metric in the same units as the target variable.\n",
    "3. **RSS (Residual Sum of Squares)**: The sum of the squared differences between the observed and predicted values.\n",
    "4. **SSR (Regression Sum of Squares)**: The sum of the squared differences between the predicted values and the mean of the observed values.\n",
    "5. **TSS (Total Sum of Squares)**: The sum of the squared differences between the observed values and the mean of the observed values.\n",
    "6. **R² (R-squared)**: Represents the proportion of the variance in the dependent variable that is predictable from the independent variable(s).\n",
    "7. **MAPE (Mean Absolute Percentage Error)**: The mean absolute percentage difference between the observed and predicted values, expressed as a percentage."
   ]
  },
  {
   "cell_type": "code",
   "execution_count": null,
   "id": "c8caf2af",
   "metadata": {},
   "outputs": [],
   "source": []
  },
  {
   "cell_type": "markdown",
   "id": "ab6daedf",
   "metadata": {},
   "source": []
  }
 ],
 "metadata": {
  "kernelspec": {
   "display_name": "ML",
   "language": "python",
   "name": "python3"
  },
  "language_info": {
   "codemirror_mode": {
    "name": "ipython",
    "version": 3
   },
   "file_extension": ".py",
   "mimetype": "text/x-python",
   "name": "python",
   "nbconvert_exporter": "python",
   "pygments_lexer": "ipython3",
   "version": "3.8.18"
  }
 },
 "nbformat": 4,
 "nbformat_minor": 5
}
