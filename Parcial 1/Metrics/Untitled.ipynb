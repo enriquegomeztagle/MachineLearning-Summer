{
 "cells": [
  {
   "cell_type": "code",
   "execution_count": 1,
   "id": "c64ebb66-9103-4e94-9d59-9aeb6ac8a8af",
   "metadata": {},
   "outputs": [],
   "source": [
    "import subprocess"
   ]
  },
  {
   "cell_type": "code",
   "execution_count": 2,
   "id": "2657f1c1-3c8d-484c-a4ec-b4204d12140b",
   "metadata": {},
   "outputs": [
    {
     "name": "stdout",
     "output_type": "stream",
     "text": [
      "usage: conda [-h] [-v] [--no-plugins] [-V] COMMAND ...\n",
      "\n",
      "conda is a tool for managing and deploying applications, environments and packages.\n",
      "\n",
      "options:\n",
      "  -h, --help          Show this help message and exit.\n",
      "  -v, --verbose       Can be used multiple times. Once for detailed output,\n",
      "                      twice for INFO logging, thrice for DEBUG logging, four\n",
      "                      times for TRACE logging.\n",
      "  --no-plugins        Disable all plugins that are not built into conda.\n",
      "  -V, --version       Show the conda version number and exit.\n",
      "\n",
      "commands:\n",
      "  The following built-in and plugins subcommands are available.\n",
      "\n",
      "  COMMAND\n",
      "    activate          Activate a conda environment.\n",
      "    build             Build conda packages from a conda recipe.\n",
      "    clean             Remove unused packages and caches.\n",
      "    compare           Compare packages between conda environments.\n",
      "    config            Modify configuration values in .condarc.\n",
      "    content-trust     Signing and verification tools for Conda\n",
      "    convert           Convert pure Python packages to other platforms (a.k.a.,\n",
      "                      subdirs).\n",
      "    create            Create a new conda environment from a list of specified\n",
      "                      packages.\n",
      "    deactivate        Deactivate the current active conda environment.\n",
      "    debug             Debug the build or test phases of conda recipes.\n",
      "    develop           Install a Python package in 'development mode'. Similar\n",
      "                      to `pip install --editable`.\n",
      "    doctor            Display a health report for your environment.\n",
      "    export            Export a given environment\n",
      "    index             Update package index metadata files.\n",
      "    info              Display information about current conda install.\n",
      "    init              Initialize conda for shell interaction.\n",
      "    inspect           Tools for inspecting conda packages.\n",
      "    install           Install a list of packages into a specified conda\n",
      "                      environment.\n",
      "    list              List installed packages in a conda environment.\n",
      "    metapackage       Specialty tool for generating conda metapackage.\n",
      "    notices           Retrieve latest channel notifications.\n",
      "    pack              See `conda pack --help`.\n",
      "    package           Create low-level conda packages. (EXPERIMENTAL)\n",
      "    remove (uninstall)\n",
      "                      Remove a list of packages from a specified conda\n",
      "                      environment.\n",
      "    rename            Rename an existing environment.\n",
      "    render            Expand a conda recipe into a platform-specific recipe.\n",
      "    repo              See `conda repo --help`.\n",
      "    repoquery         Advanced search for repodata.\n",
      "    run               Run an executable in a conda environment.\n",
      "    search            Search for packages and display associated information\n",
      "                      using the MatchSpec format.\n",
      "    server            See `conda server --help`.\n",
      "    skeleton          Generate boilerplate conda recipes.\n",
      "    token             See `conda token --help`.\n",
      "    update (upgrade)  Update conda packages to the latest compatible version.\n"
     ]
    },
    {
     "data": {
      "text/plain": [
       "CompletedProcess(args=['conda', 'activate', 'ML'], returncode=0)"
      ]
     },
     "execution_count": 2,
     "metadata": {},
     "output_type": "execute_result"
    }
   ],
   "source": [
    "subprocess.run(['conda', 'activate', 'ML'], shell=True, check=True)"
   ]
  },
  {
   "cell_type": "code",
   "execution_count": 3,
   "id": "533f85aa-6e25-4ef5-83b1-9a6920aec013",
   "metadata": {},
   "outputs": [],
   "source": [
    "import numpy as np\n",
    "import pandas as pd\n",
    "from sklearn.linear_model import LinearRegression\n",
    "from sklearn.metrics import mean_squared_error, r2_score\n"
   ]
  },
  {
   "cell_type": "code",
   "execution_count": 4,
   "id": "464db6b9-8586-463c-95cb-90c56954f8b3",
   "metadata": {},
   "outputs": [],
   "source": [
    "np.random.seed(0)\n",
    "X = 2 * np.random.rand(100, 1)\n",
    "y = 4 + 3 * X + np.random.randn(100, 1)"
   ]
  },
  {
   "cell_type": "code",
   "execution_count": 5,
   "id": "97b40abe-edbb-432f-b6b0-792d535af0fd",
   "metadata": {},
   "outputs": [],
   "source": [
    "model = LinearRegression()\n",
    "model.fit(X, y)\n",
    "y_pred = model.predict(X)"
   ]
  },
  {
   "cell_type": "code",
   "execution_count": 6,
   "id": "ebc34c95-24a2-4305-979e-321f78450eed",
   "metadata": {},
   "outputs": [],
   "source": [
    "mse = mean_squared_error(y, y_pred)\n",
    "rmse = np.sqrt(mse)\n",
    "rss = np.sum((y - y_pred) ** 2)\n",
    "tss = np.sum((y - np.mean(y)) ** 2)\n",
    "ssr = tss - rss\n",
    "r2 = r2_score(y, y_pred)\n",
    "mape = np.mean(np.abs((y - y_pred) / y)) * 100"
   ]
  },
  {
   "cell_type": "code",
   "execution_count": 8,
   "id": "165dcb2c-c13f-4c49-b885-4fd7d89a928e",
   "metadata": {},
   "outputs": [],
   "source": [
    "metrics = {\n",
    "    'Metric': ['MSE', 'RMSE', 'RSS', 'SSR', 'TSS', 'R2', 'MAPE'],\n",
    "    'Value': [mse, rmse, rss, ssr, tss, r2, mape]\n",
    "}\n",
    "metrics_df = pd.DataFrame(metrics)"
   ]
  },
  {
   "cell_type": "code",
   "execution_count": 19,
   "id": "a484cd91-c654-46af-8ab0-4af1cabc4523",
   "metadata": {},
   "outputs": [
    {
     "name": "stdout",
     "output_type": "stream",
     "text": [
      "  Metric       Value\n",
      "0    MSE    0.992439\n",
      "1   RMSE    0.996212\n",
      "2    RSS   99.243865\n",
      "3    SSR  292.967005\n",
      "4    TSS  392.210870\n",
      "5     R2    0.746963\n",
      "6   MAPE   13.429088\n"
     ]
    }
   ],
   "source": [
    "print(metrics_df)"
   ]
  },
  {
   "cell_type": "code",
   "execution_count": null,
   "id": "bec2dc14-ff26-4ffa-b07c-335910433e31",
   "metadata": {},
   "outputs": [],
   "source": []
  }
 ],
 "metadata": {
  "kernelspec": {
   "display_name": "Python 3 (ipykernel)",
   "language": "python",
   "name": "python3"
  },
  "language_info": {
   "codemirror_mode": {
    "name": "ipython",
    "version": 3
   },
   "file_extension": ".py",
   "mimetype": "text/x-python",
   "name": "python",
   "nbconvert_exporter": "python",
   "pygments_lexer": "ipython3",
   "version": "3.11.5"
  }
 },
 "nbformat": 4,
 "nbformat_minor": 5
}
